{
 "cells": [
  {
   "cell_type": "code",
   "execution_count": 16,
   "metadata": {
    "id": "B5IExomN_a9k"
   },
   "outputs": [],
   "source": [
    "import pandas as pd\n",
    "import sqlite3"
   ]
  },
  {
   "cell_type": "code",
   "execution_count": 17,
   "metadata": {
    "colab": {
     "base_uri": "https://localhost:8080/",
     "height": 287
    },
    "executionInfo": {
     "elapsed": 48,
     "status": "error",
     "timestamp": 1743609799668,
     "user": {
      "displayName": "Pedro Carvalho",
      "userId": "07477494720489811659"
     },
     "user_tz": -60
    },
    "id": "mLqCo77eIosl",
    "outputId": "36216d73-1d7e-4a6c-8e08-21ef9f60dc80"
   },
   "outputs": [],
   "source": [
    "df = pd.read_csv('G19_PublishingAuthors_Books_with_Literary_Awards_merged.csv', sep=';')"
   ]
  },
  {
   "cell_type": "markdown",
   "metadata": {
    "id": "24xD8sOmH0r-"
   },
   "source": [
    "# New Section"
   ]
  },
  {
   "cell_type": "code",
   "execution_count": 35,
   "metadata": {
    "id": "tiG_OtCzAWoW"
   },
   "outputs": [],
   "source": [
    "co = sqlite3.connect('data/Publishing.db')"
   ]
  },
  {
   "cell_type": "code",
   "execution_count": 37,
   "metadata": {
    "colab": {
     "base_uri": "https://localhost:8080/",
     "height": 141
    },
    "executionInfo": {
     "elapsed": 9,
     "status": "error",
     "timestamp": 1743608865495,
     "user": {
      "displayName": "Pedro Carvalho",
      "userId": "07477494720489811659"
     },
     "user_tz": -60
    },
    "id": "T7mU89bYAgqM",
    "outputId": "2cb27e2b-aae1-4de3-b628-bf8c1badf788"
   },
   "outputs": [
    {
     "data": {
      "text/plain": [
       "1200"
      ]
     },
     "execution_count": 37,
     "metadata": {},
     "output_type": "execute_result"
    }
   ],
   "source": [
    "df.to_sql('G19_Publishing', co, if_exists='replace', index=False)"
   ]
  },
  {
   "cell_type": "code",
   "execution_count": 51,
   "metadata": {
    "colab": {
     "base_uri": "https://localhost:8080/",
     "height": 176
    },
    "executionInfo": {
     "elapsed": 4,
     "status": "error",
     "timestamp": 1743608867845,
     "user": {
      "displayName": "Pedro Carvalho",
      "userId": "07477494720489811659"
     },
     "user_tz": -60
    },
    "id": "0NWrgpAeAmuc",
    "outputId": "f045b235-fbec-4108-f626-ddd4669e61fd"
   },
   "outputs": [
    {
     "data": {
      "text/plain": [
       "1200"
      ]
     },
     "execution_count": 51,
     "metadata": {},
     "output_type": "execute_result"
    }
   ],
   "source": [
    "colunas_Author = ['authors_id','authors_name','nationality','birth_year','royalty_percentage']\n",
    "df_Author = df[colunas_Author]\n",
    "df_Author.to_sql('Author', co, if_exists='replace', index=False)"
   ]
  },
  {
   "cell_type": "code",
   "execution_count": 52,
   "metadata": {
    "id": "4JXNWj3aBgPm"
   },
   "outputs": [
    {
     "data": {
      "text/plain": [
       "1200"
      ]
     },
     "execution_count": 52,
     "metadata": {},
     "output_type": "execute_result"
    }
   ],
   "source": [
    "colunas_Books = ['books_id','books_title','genre','publication_year']\n",
    "df_Books = df[colunas_Books]\n",
    "df_Books.to_sql('Books', co, if_exists='replace', index=False)"
   ]
  },
  {
   "cell_type": "code",
   "execution_count": 53,
   "metadata": {
    "id": "w7Reo7vHB2AU"
   },
   "outputs": [
    {
     "data": {
      "text/plain": [
       "1200"
      ]
     },
     "execution_count": 53,
     "metadata": {},
     "output_type": "execute_result"
    }
   ],
   "source": [
    "colunas_Awards = ['awards_id','award_name']\n",
    "df_Awards = df[colunas_Awards]\n",
    "df_Awards.to_sql('Awards', co, if_exists='replace', index=False)"
   ]
  },
  {
   "cell_type": "code",
   "execution_count": 55,
   "metadata": {
    "id": "luYGHEdaCqjn"
   },
   "outputs": [
    {
     "data": {
      "text/plain": [
       "1200"
      ]
     },
     "execution_count": 55,
     "metadata": {},
     "output_type": "execute_result"
    }
   ],
   "source": [
    "colunas_Books_Awards = ['awards_id','books_id','year']\n",
    "df_Books_Awards = df[colunas_Books_Awards]\n",
    "df_Books_Awards.to_sql('Books_Awards', co, if_exists='replace', index=False)"
   ]
  },
  {
   "cell_type": "code",
   "execution_count": null,
   "metadata": {},
   "outputs": [],
   "source": []
  },
  {
   "cell_type": "code",
   "execution_count": null,
   "metadata": {},
   "outputs": [],
   "source": []
  },
  {
   "cell_type": "code",
   "execution_count": null,
   "metadata": {},
   "outputs": [],
   "source": []
  },
  {
   "cell_type": "code",
   "execution_count": null,
   "metadata": {},
   "outputs": [],
   "source": []
  },
  {
   "cell_type": "code",
   "execution_count": null,
   "metadata": {},
   "outputs": [],
   "source": []
  },
  {
   "cell_type": "code",
   "execution_count": null,
   "metadata": {},
   "outputs": [],
   "source": []
  }
 ],
 "metadata": {
  "colab": {
   "authorship_tag": "ABX9TyOOIM/TCJZCP04jVX05+yNe",
   "provenance": []
  },
  "kernelspec": {
   "display_name": "Python [conda env:base] *",
   "language": "python",
   "name": "conda-base-py"
  },
  "language_info": {
   "codemirror_mode": {
    "name": "ipython",
    "version": 3
   },
   "file_extension": ".py",
   "mimetype": "text/x-python",
   "name": "python",
   "nbconvert_exporter": "python",
   "pygments_lexer": "ipython3",
   "version": "3.12.7"
  }
 },
 "nbformat": 4,
 "nbformat_minor": 4
}
